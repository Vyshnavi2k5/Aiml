{
  "cells": [
    {
      "cell_type": "markdown",
      "metadata": {
        "id": "view-in-github",
        "colab_type": "text"
      },
      "source": [
        "<a href=\"https://colab.research.google.com/github/Vyshnavi2k5/Aiml/blob/main/part1.ipynb\" target=\"_parent\"><img src=\"https://colab.research.google.com/assets/colab-badge.svg\" alt=\"Open In Colab\"/></a>"
      ]
    },
    {
      "cell_type": "code",
      "source": [
        "#question5\n",
        "import numpy as np\n",
        "#Create two datasets (arrays)\n",
        "dataset1 = np.array([1, 2, 3, 4, 5])\n",
        "dataset2 = np.array([6, 7, 8, 9, 10])\n",
        "\n",
        "#Multiplication\n",
        "multiplication_result = dataset1 * dataset2\n",
        "print(\"Multiplication Result:\", multiplication_result)\n",
        "\n",
        "#Division\n",
        "division_result = np.divide(dataset1, dataset2)\n",
        "print(\"Division Result:\", division_result)\n",
        "\n",
        "#Power operation (dataset1 raised to the power of dataset2)\n",
        "power_result = np.power(dataset1, dataset2)\n",
        "print(\"Power Result:\", power_result)"
      ],
      "metadata": {
        "colab": {
          "base_uri": "https://localhost:8080/"
        },
        "id": "0iHWggQv-SUq",
        "outputId": "2f6c4816-2212-403e-d6e1-cb55d194b625"
      },
      "execution_count": 9,
      "outputs": [
        {
          "output_type": "stream",
          "name": "stdout",
          "text": [
            "Multiplication Result: [ 6 14 24 36 50]\n",
            "Division Result: [0.16666667 0.28571429 0.375      0.44444444 0.5       ]\n",
            "Power Result: [      1     128    6561  262144 9765625]\n"
          ]
        }
      ]
    }
  ],
  "metadata": {
    "colab": {
      "name": "Welcome To Colab",
      "toc_visible": true,
      "provenance": [],
      "include_colab_link": true
    },
    "kernelspec": {
      "display_name": "Python 3",
      "name": "python3"
    }
  },
  "nbformat": 4,
  "nbformat_minor": 0
}