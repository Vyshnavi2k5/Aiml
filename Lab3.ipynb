{
  "nbformat": 4,
  "nbformat_minor": 0,
  "metadata": {
    "colab": {
      "provenance": [],
      "authorship_tag": "ABX9TyNccWYFC+ZSeWUuZ0iuitB7",
      "include_colab_link": true
    },
    "kernelspec": {
      "name": "python3",
      "display_name": "Python 3"
    },
    "language_info": {
      "name": "python"
    }
  },
  "cells": [
    {
      "cell_type": "markdown",
      "metadata": {
        "id": "view-in-github",
        "colab_type": "text"
      },
      "source": [
        "<a href=\"https://colab.research.google.com/github/Vyshnavi2k5/Aiml/blob/main/Lab3.ipynb\" target=\"_parent\"><img src=\"https://colab.research.google.com/assets/colab-badge.svg\" alt=\"Open In Colab\"/></a>"
      ]
    },
    {
      "cell_type": "code",
      "execution_count": 2,
      "metadata": {
        "colab": {
          "base_uri": "https://localhost:8080/"
        },
        "id": "9fL508jAUkjj",
        "outputId": "2db67633-1d23-4696-b781-c69d6fff51cd"
      },
      "outputs": [
        {
          "output_type": "stream",
          "name": "stdout",
          "text": [
            "Initial board:\n",
            "  |   |  \n",
            "-----\n",
            "  |   |  \n",
            "-----\n",
            "  |   |  \n",
            "-----\n",
            "Best move for X: (0, 0)\n",
            "\n",
            "Board after best move:\n",
            "X |   |  \n",
            "-----\n",
            "  |   |  \n",
            "-----\n",
            "  |   |  \n",
            "-----\n"
          ]
        }
      ],
      "source": [
        "import math\n",
        "\n",
        "# Define constants for the players\n",
        "PLAYER_X = 'X'\n",
        "PLAYER_O = 'O'\n",
        "EMPTY = ' '\n",
        "\n",
        "# Utility functions for the game\n",
        "def check_winner(board):\n",
        "    # Check rows, columns, and diagonals for a winner\n",
        "    lines = [board[0], board[1], board[2],  # Rows\n",
        "             [board[0][0], board[1][0], board[2][0]],  # Columns\n",
        "             [board[0][1], board[1][1], board[2][1]],\n",
        "             [board[0][2], board[1][2], board[2][2]],\n",
        "             [board[0][0], board[1][1], board[2][2]],  # Diagonals\n",
        "             [board[2][0], board[1][1], board[0][2]]]\n",
        "\n",
        "    for line in lines:\n",
        "        if line[0] == line[1] == line[2] != EMPTY:\n",
        "            return line[0]  # Return the winner ('X' or 'O')\n",
        "    return None  # No winner yet\n",
        "\n",
        "def is_full(board):\n",
        "    return all(cell != EMPTY for row in board for cell in row)\n",
        "\n",
        "def print_board(board):\n",
        "    for row in board:\n",
        "        print(' | '.join(row))\n",
        "        print('-' * 5)\n",
        "\n",
        "def get_available_moves(board):\n",
        "    return [(r, c) for r in range(3) for c in range(3) if board[r][c] == EMPTY]\n",
        "\n",
        "# MiniMax Algorithm\n",
        "def minimax(board, depth, is_maximizing):\n",
        "    winner = check_winner(board)\n",
        "    if winner == PLAYER_X:\n",
        "        return 10 - depth\n",
        "    elif winner == PLAYER_O:\n",
        "        return depth - 10\n",
        "    elif is_full(board):\n",
        "        return 0\n",
        "\n",
        "    if is_maximizing:\n",
        "        best_score = -math.inf\n",
        "        for (r, c) in get_available_moves(board):\n",
        "            board[r][c] = PLAYER_X\n",
        "            score = minimax(board, depth + 1, False)\n",
        "            board[r][c] = EMPTY\n",
        "            best_score = max(score, best_score)\n",
        "        return best_score\n",
        "    else:\n",
        "        best_score = math.inf\n",
        "        for (r, c) in get_available_moves(board):\n",
        "            board[r][c] = PLAYER_O\n",
        "            score = minimax(board, depth + 1, True)\n",
        "            board[r][c] = EMPTY\n",
        "            best_score = min(score, best_score)\n",
        "        return best_score\n",
        "\n",
        "def find_best_move(board):\n",
        "    best_move = None\n",
        "    best_score = -math.inf\n",
        "    for (r, c) in get_available_moves(board):\n",
        "        board[r][c] = PLAYER_X\n",
        "        score = minimax(board, 0, False)\n",
        "        board[r][c] = EMPTY\n",
        "        if score > best_score:\n",
        "            best_score = score\n",
        "            best_move = (r, c)\n",
        "    return best_move\n",
        "\n",
        "# Example usage\n",
        "board = [\n",
        "    [EMPTY, EMPTY, EMPTY],\n",
        "    [EMPTY, EMPTY, EMPTY],\n",
        "    [EMPTY, EMPTY, EMPTY]\n",
        "]\n",
        "\n",
        "print(\"Initial board:\")\n",
        "print_board(board)\n",
        "\n",
        "move = find_best_move(board)\n",
        "if move:\n",
        "    print(f\"Best move for X: {move}\")\n",
        "    board[move[0]][move[1]] = PLAYER_X\n",
        "\n",
        "print(\"\\nBoard after best move:\")\n",
        "print_board(board)\n"
      ]
    }
  ]
}