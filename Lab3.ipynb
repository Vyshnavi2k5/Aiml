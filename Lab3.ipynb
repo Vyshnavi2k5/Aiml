{
  "nbformat": 4,
  "nbformat_minor": 0,
  "metadata": {
    "colab": {
      "provenance": [],
      "authorship_tag": "ABX9TyPuiQ1pAzbt872Bamh8jkmD",
      "include_colab_link": true
    },
    "kernelspec": {
      "name": "python3",
      "display_name": "Python 3"
    },
    "language_info": {
      "name": "python"
    }
  },
  "cells": [
    {
      "cell_type": "markdown",
      "metadata": {
        "id": "view-in-github",
        "colab_type": "text"
      },
      "source": [
        "<a href=\"https://colab.research.google.com/github/Vyshnavi2k5/Aiml/blob/main/Lab3.ipynb\" target=\"_parent\"><img src=\"https://colab.research.google.com/assets/colab-badge.svg\" alt=\"Open In Colab\"/></a>"
      ]
    },
    {
      "cell_type": "markdown",
      "source": [
        "Part-01(a):Install the Python Libraries required for Game Strategy"
      ],
      "metadata": {
        "id": "syxxF6ooUBiC"
      }
    },
    {
      "cell_type": "markdown",
      "source": [
        "1-Install the Python Libraries-Collections,random,math,functools,cache=functools.lru_cache(10**6)"
      ],
      "metadata": {
        "id": "uRlaGyjCUNcB"
      }
    },
    {
      "cell_type": "code",
      "execution_count": 1,
      "metadata": {
        "id": "BKcbuUUcT7si"
      },
      "outputs": [],
      "source": [
        "from collections import namedtuple,Counter,defaultdict\n",
        "import random\n",
        "import math\n",
        "import functools\n",
        "cache=functools.lru_cache(10**6)"
      ]
    },
    {
      "cell_type": "markdown",
      "source": [
        "2-Implement a Game Class Constructor using action, is terminal, result, utility functions"
      ],
      "metadata": {
        "id": "P0URncSWUu4K"
      }
    },
    {
      "cell_type": "code",
      "source": [
        "class Game:\n",
        "    def actions(self, state):\n",
        "        \"\"\"Return a collection of the allowable moves from this state.\"\"\"\n",
        "        raise NotImplementedError\n",
        "\n",
        "    def result(self, state, move):\n",
        "        \"\"\"Return the state that results from making a move from a state.\"\"\"\n",
        "        raise NotImplementedError\n",
        "\n",
        "    def is_terminal(self, state):\n",
        "        \"\"\"Return True if this is a final state for the game.\"\"\"\n",
        "        return not self.actions(state)\n",
        "\n",
        "    def utility(self, state, player):\n",
        "        \"\"\"Return the value of this final state to player.\"\"\"\n",
        "        raise NotImplementedError\n"
      ],
      "metadata": {
        "id": "948lriIGUqeL"
      },
      "execution_count": 2,
      "outputs": []
    },
    {
      "cell_type": "code",
      "source": [
        "def play_game(game, strategies: dict, verbose=False):\n",
        "  \"\"\"Play a turn taking game. 'strategies' is a {player_name: function} dict,\n",
        "  where function(state, game) is used to get the player's move.\n",
        "  \"\"\"\n",
        "  state = game.initial\n",
        "  while not game.is_terminal(state):\n",
        "    player = state.to_move\n",
        "    move = strategies[player](game, state)\n",
        "    state = game.result(state, move)\n",
        "    if verbose:\n",
        "      print('Player', player, 'move:', move)\n",
        "      print(state)\n",
        "  return state\n"
      ],
      "metadata": {
        "id": "wVho8dY_VGJy"
      },
      "execution_count": 3,
      "outputs": []
    },
    {
      "cell_type": "markdown",
      "source": [
        "Part-02:Implement the Alpha-Beta Search Algorithm\n",
        "\n",
        "1.MiniMax Search Algorithm\n",
        "\n",
        "2.Alpha-Beta Search Algorithm"
      ],
      "metadata": {
        "id": "rzmijH6LVU-T"
      }
    },
    {
      "cell_type": "code",
      "source": [
        "def minimax_search(game, state):\n",
        "    \"\"\"Search game tree to determine best move; return (value, move) pair.\"\"\"\n",
        "    player = state.to_move\n",
        "    def max_value(state):\n",
        "        if game.is_terminal(state):\n",
        "            return game.utility(state, player), None\n",
        "        v, move = -float('inf'), None\n",
        "        for a in game.actions(state):\n",
        "            v2, _ = min_value(game.result(state, a))\n",
        "            if v2 > v:\n",
        "                v, move = v2, a\n",
        "        return v, move\n",
        "    def min_value(state):\n",
        "        if game.is_terminal(state):\n",
        "            return game.utility(state, player), None\n",
        "        v, move = float('inf'), None\n",
        "        for a in game.actions(state):\n",
        "            v2, _ = max_value(game.result(state, a))\n",
        "            if v2 < v:\n",
        "                v, move = v2, a\n",
        "        return v, move\n",
        "    return max_value(state)\n",
        "infinity = math.inf\n",
        "\n",
        ""
      ],
      "metadata": {
        "id": "rfI8O1nAVYTJ"
      },
      "execution_count": 4,
      "outputs": []
    },
    {
      "cell_type": "code",
      "source": [
        "def alphabeta_search(game, state):\n",
        "  ##Search game to determine best action;\n",
        "  ##use alpha-beta pruning.\n",
        "  ##Search all the way to the leaves.\n",
        "  player = state.to_move\n",
        "\n",
        "  def max_value(state, alpha, beta):\n",
        "    if game.is_terminal(state):\n",
        "      return game.utility(state, player), None\n",
        "    v, move = -infinity, None\n",
        "    for a in game.actions(state):\n",
        "      v2, _ = min_value(game.result(state, a), alpha, beta)\n",
        "      if v2 > v:\n",
        "        v, move = v2, a\n",
        "        alpha = max(alpha, v)\n",
        "        if v >= beta:\n",
        "          return v, move\n",
        "    return v, move\n",
        "\n",
        "  def min_value(state, alpha, beta):\n",
        "    if game.is_terminal(state):\n",
        "      return game.utility(state, player), None\n",
        "    v, move = +infinity, None\n",
        "    for a in game.actions(state):\n",
        "      v2, _ = max_value(game.result(state, a), alpha, beta)\n",
        "      if v2 < v:\n",
        "        v, move = v2, a\n",
        "        beta = min(beta, v)\n",
        "        if v <= alpha:\n",
        "          return v, move\n",
        "    return v, move\n",
        "  return max_value(state, -infinity, +infinity)\n",
        "\n"
      ],
      "metadata": {
        "id": "ISkb4mIVVjOk"
      },
      "execution_count": 5,
      "outputs": []
    },
    {
      "cell_type": "markdown",
      "source": [
        "Part-03:Implement the Game Strategy using TicTocToe"
      ],
      "metadata": {
        "id": "igSVNt1pVxxi"
      }
    },
    {
      "cell_type": "code",
      "source": [
        "class TicTacToe(Game):\n",
        "    # Play TicTacToe on an ‘height ‘ by ‘width‘ board, needing ‘k ‘ in a row to win.\n",
        "    # ’X’ plays f irs t against ’O’\n",
        "    def _init_(self, height=3, width=3, k=3):\n",
        "        self.k = k #kin a row\n",
        "        self.squares = {(x, y) for x in range(width) for y in range(height)}\n",
        "        self.initial = Board(height=height, width=width, to_move='X', utility=0)\n",
        "    def actions(self, board):\n",
        "        \"\"\"Legal moves are any square not yet taken.\"\"\"\n",
        "        return self.squares - set(board)\n",
        "    def result(self, board, square):\n",
        "        #Place a marker for current player on square.\n",
        "        player = board.to_move\n",
        "        board = board.new({square: player}, to_move=('0' if player == 'X' else 'X'))\n",
        "        win = k_in_row(board, player, square, self.k)\n",
        "        board.utility = (0 if not win else +1 if player == 'X' else -1)\n",
        "        return board\n",
        "    def utility(self, board, player):\n",
        "        \"\"\"Return the value to player; 1 for win, -1 for loss, O otherwise.\"\"\"\n",
        "        return board.utility if player == 'X' else -board.utility\n",
        "    def is_terminal(self, board):\n",
        "        #A board is a terminal state if it is won or there are no empty squares.\n",
        "        return board.utility != 0 or len(self.squares) == len(board)\n",
        "    def display(self, board):\n",
        "        print(board)\n",
        "\n",
        "    def k_in_row(board, player, square, k):\n",
        "        #True if player has k pieces in a line through square.\n",
        "        def in_row(x, y, dx, dy):\n",
        "            return 0 if board[x, y] != player else 1 + in_row(x + dx, y + dy, dx, dy)\n",
        "        return any(in_row(*square, dx, dy) + in_row(*square, dx, -dy) - 1 >= k\n",
        "                   for (dx, dy) in ((0, 1), (1, 0), (1, 1), (1, -1)))"
      ],
      "metadata": {
        "id": "awdjKHmkVzG6"
      },
      "execution_count": 6,
      "outputs": []
    },
    {
      "cell_type": "markdown",
      "source": [
        "2.Implement a Game Board using defaultdict using init , new, missing , hash , repr_"
      ],
      "metadata": {
        "id": "Zxh6taLQV_3h"
      }
    },
    {
      "cell_type": "code",
      "source": [
        "class Board( defaultdict ):\n",
        "    ## A board has the player to move, a cached utility value,\n",
        "    ## And a dict of {(x, y): player} entries, where player is 'X' or 'O'\n",
        "    empty = \".\"\n",
        "    off = \"#\"\n",
        "    def _init_(self, width=8, height=8, to_move=None, **kwds):\n",
        "        self._dict_.update(width=width, height=height, to_move=to_move, **kwds)\n",
        "\n",
        "    def new(self, changes: dict, **kwds) -> 'Board':\n",
        "        ## Given a dict of {(x, y): contents} changes, return a new Board with the changes.\n",
        "        board = Board(width=self.width, height=self.height, **kwds)\n",
        "        board.update(self)\n",
        "        board.update(changes)\n",
        "        return board\n",
        "\n",
        "    def _missing_(self, loc):\n",
        "        x, y = loc\n",
        "        if 0 <= x < self.width and 0 <= y < self.height:\n",
        "            return self.empty\n",
        "        else:\n",
        "            return self.off\n",
        "\n",
        "    def _hash_(self):\n",
        "        return hash(tuple(sorted(self.items()))) + hash(self.to_move)\n",
        "\n",
        "    def _repr_(self):\n",
        "        def row(y): return '.'.join(self[x, y] for x in range(self.width))\n",
        "        return '\\n'.join(map(row, range(self.height))) + '\\n'\n",
        "\n",
        ""
      ],
      "metadata": {
        "id": "q2Xo7cA3WDX5"
      },
      "execution_count": 7,
      "outputs": []
    },
    {
      "cell_type": "markdown",
      "source": [
        "Part 4 – Evaluate the AI Game Strategy using TicTocToe."
      ],
      "metadata": {
        "id": "HseEXcp-Wp7T"
      }
    },
    {
      "cell_type": "code",
      "source": [
        "def random_player(game, state):\n",
        "  \"\"\"Return a random move from the available actions for the given state in the game.\"\"\"\n",
        "  return random.choice(list(game.actions(state)))\n",
        "\n",
        "def player(search_algorithm):\n",
        "  \"\"\"A game player who uses the specified search algorithm\"\"\"\n",
        "  return lambda game, state: search_algorithm(game, state)\n",
        ""
      ],
      "metadata": {
        "id": "lbPmBho-WswL"
      },
      "execution_count": 8,
      "outputs": []
    }
  ]
}